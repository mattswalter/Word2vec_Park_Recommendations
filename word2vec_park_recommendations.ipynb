{
  "nbformat": 4,
  "nbformat_minor": 0,
  "metadata": {
    "colab": {
      "name": "word2vec_park_recommendations",
      "provenance": [],
      "include_colab_link": true
    },
    "kernelspec": {
      "name": "python3",
      "display_name": "Python 3"
    },
    "language_info": {
      "name": "python"
    }
  },
  "cells": [
    {
      "cell_type": "markdown",
      "metadata": {
        "id": "view-in-github",
        "colab_type": "text"
      },
      "source": [
        "<a href=\"https://colab.research.google.com/github/mattswalter/Word2vec_Park_Recommendations/blob/main/word2vec_park_recommendations.ipynb\" target=\"_parent\"><img src=\"https://colab.research.google.com/assets/colab-badge.svg\" alt=\"Open In Colab\"/></a>"
      ]
    },
    {
      "cell_type": "markdown",
      "metadata": {
        "id": "IN4nG6mJFDK-"
      },
      "source": [
        "Author: Mswalter@udel.edu\n",
        "\n",
        "Interpreted from: https://www.kdnuggets.com/2020/08/content-based-recommendation-system-word-embeddings.html\n",
        "\n",
        "Description: Use Word2vec from gensim to create word embeddings for all of the user reviews for parks in Philadelphia left on Google Maps. Use those reviews associated with each park to recommend the most similar parks based on their user reviews calculated as cosine similarity."
      ]
    },
    {
      "cell_type": "code",
      "metadata": {
        "id": "t070rXD-jrZs"
      },
      "source": [
        "from sklearn.manifold import TSNE\n",
        "import pandas as pd\n",
        "import numpy as np\n",
        "import nltk\n",
        "nltk.download('stopwords')\n",
        "from nltk.corpus import stopwords\n",
        "from sklearn.metrics.pairwise import linear_kernel\n",
        "from sklearn.feature_extraction.text import CountVectorizer\n",
        "from sklearn.feature_extraction.text import TfidfVectorizer\n",
        "from nltk.tokenize import RegexpTokenizer\n",
        "import re\n",
        "import string\n",
        "import random\n",
        "from io import BytesIO\n",
        "import matplotlib.pyplot as plt\n",
        "%matplotlib inline\n",
        "from sklearn.metrics.pairwise import cosine_similarity\n",
        "from gensim.models import Word2Vec\n",
        "from gensim.models.phrases import Phrases, Phraser\n",
        "from matplotlib import pyplot\n",
        "from gensim.models import KeyedVectors\n",
        "import warnings\n",
        "from sklearn.decomposition import PCA\n",
        "import gensim\n",
        "import matplotlib.cm as cm\n"
      ],
      "execution_count": null,
      "outputs": []
    },
    {
      "cell_type": "code",
      "metadata": {
        "colab": {
          "base_uri": "https://localhost:8080/"
        },
        "id": "6c9aq1Qbv4P8",
        "outputId": "03be9412-418d-4ead-b61d-b203eef044a5"
      },
      "source": [
        "from google.colab import drive\n",
        "drive.mount('/content/drive')"
      ],
      "execution_count": null,
      "outputs": [
        {
          "output_type": "stream",
          "text": [
            "Mounted at /content/drive\n"
          ],
          "name": "stdout"
        }
      ]
    },
    {
      "cell_type": "markdown",
      "metadata": {
        "id": "f9PzqRHAFCD-"
      },
      "source": [
        "Import and clean data"
      ]
    },
    {
      "cell_type": "code",
      "metadata": {
        "id": "PE3jvrwLjvUk"
      },
      "source": [
        "df = pd.read_csv('/content/drive/MyDrive/parks_reviews_philly.csv')"
      ],
      "execution_count": null,
      "outputs": []
    },
    {
      "cell_type": "code",
      "metadata": {
        "colab": {
          "base_uri": "https://localhost:8080/",
          "height": 203
        },
        "id": "dDWyTayCj_2-",
        "outputId": "6bfbd3df-a4cb-4761-b2a1-3db7aab48224"
      },
      "source": [
        "df.head()"
      ],
      "execution_count": null,
      "outputs": [
        {
          "output_type": "execute_result",
          "data": {
            "text/html": [
              "<div>\n",
              "<style scoped>\n",
              "    .dataframe tbody tr th:only-of-type {\n",
              "        vertical-align: middle;\n",
              "    }\n",
              "\n",
              "    .dataframe tbody tr th {\n",
              "        vertical-align: top;\n",
              "    }\n",
              "\n",
              "    .dataframe thead th {\n",
              "        text-align: right;\n",
              "    }\n",
              "</style>\n",
              "<table border=\"1\" class=\"dataframe\">\n",
              "  <thead>\n",
              "    <tr style=\"text-align: right;\">\n",
              "      <th></th>\n",
              "      <th>url</th>\n",
              "      <th>place_name</th>\n",
              "      <th>place_score</th>\n",
              "      <th>num_reviews</th>\n",
              "      <th>user_number_reviews</th>\n",
              "      <th>user_number_photos</th>\n",
              "      <th>time</th>\n",
              "      <th>score</th>\n",
              "      <th>text</th>\n",
              "    </tr>\n",
              "  </thead>\n",
              "  <tbody>\n",
              "    <tr>\n",
              "      <th>0</th>\n",
              "      <td>https://www.google.com/maps/place/20th+%26+Tio...</td>\n",
              "      <td>20th &amp; Tioga Street Park</td>\n",
              "      <td>4.2</td>\n",
              "      <td>43</td>\n",
              "      <td>63.0</td>\n",
              "      <td>NaN</td>\n",
              "      <td>3 months ago</td>\n",
              "      <td>5</td>\n",
              "      <td>Beautiful community garden space in the neighb...</td>\n",
              "    </tr>\n",
              "    <tr>\n",
              "      <th>1</th>\n",
              "      <td>https://www.google.com/maps/place/20th+%26+Tio...</td>\n",
              "      <td>20th &amp; Tioga Street Park</td>\n",
              "      <td>4.2</td>\n",
              "      <td>43</td>\n",
              "      <td>24.0</td>\n",
              "      <td>NaN</td>\n",
              "      <td>3 months ago</td>\n",
              "      <td>4</td>\n",
              "      <td>Great job of revitalizing this ball park... So...</td>\n",
              "    </tr>\n",
              "    <tr>\n",
              "      <th>2</th>\n",
              "      <td>https://www.google.com/maps/place/20th+%26+Tio...</td>\n",
              "      <td>20th &amp; Tioga Street Park</td>\n",
              "      <td>4.2</td>\n",
              "      <td>43</td>\n",
              "      <td>91.0</td>\n",
              "      <td>NaN</td>\n",
              "      <td>2 years ago</td>\n",
              "      <td>5</td>\n",
              "      <td>This is my childhood playground.  I love my ne...</td>\n",
              "    </tr>\n",
              "    <tr>\n",
              "      <th>3</th>\n",
              "      <td>https://www.google.com/maps/place/20th+%26+Tio...</td>\n",
              "      <td>20th &amp; Tioga Street Park</td>\n",
              "      <td>4.2</td>\n",
              "      <td>43</td>\n",
              "      <td>NaN</td>\n",
              "      <td>NaN</td>\n",
              "      <td>11 months ago</td>\n",
              "      <td>5</td>\n",
              "      <td>Beauty in the midst of chaos. True blessing to...</td>\n",
              "    </tr>\n",
              "    <tr>\n",
              "      <th>4</th>\n",
              "      <td>https://www.google.com/maps/place/20th+%26+Tio...</td>\n",
              "      <td>20th &amp; Tioga Street Park</td>\n",
              "      <td>4.2</td>\n",
              "      <td>43</td>\n",
              "      <td>NaN</td>\n",
              "      <td>NaN</td>\n",
              "      <td>a year ago</td>\n",
              "      <td>5</td>\n",
              "      <td>It is a beautiful place to pause and gather yo...</td>\n",
              "    </tr>\n",
              "  </tbody>\n",
              "</table>\n",
              "</div>"
            ],
            "text/plain": [
              "                                                 url  ...                                               text\n",
              "0  https://www.google.com/maps/place/20th+%26+Tio...  ...  Beautiful community garden space in the neighb...\n",
              "1  https://www.google.com/maps/place/20th+%26+Tio...  ...  Great job of revitalizing this ball park... So...\n",
              "2  https://www.google.com/maps/place/20th+%26+Tio...  ...  This is my childhood playground.  I love my ne...\n",
              "3  https://www.google.com/maps/place/20th+%26+Tio...  ...  Beauty in the midst of chaos. True blessing to...\n",
              "4  https://www.google.com/maps/place/20th+%26+Tio...  ...  It is a beautiful place to pause and gather yo...\n",
              "\n",
              "[5 rows x 9 columns]"
            ]
          },
          "metadata": {},
          "execution_count": 4
        }
      ]
    },
    {
      "cell_type": "code",
      "metadata": {
        "id": "jqw7WxcbkNEC"
      },
      "source": [
        "df.dropna(subset=['text'], inplace=True)"
      ],
      "execution_count": null,
      "outputs": []
    },
    {
      "cell_type": "code",
      "metadata": {
        "colab": {
          "base_uri": "https://localhost:8080/",
          "height": 203
        },
        "id": "zBOgjkGdkPNE",
        "outputId": "890dc825-d667-408f-ce7a-9ccdc74a8f19"
      },
      "source": [
        "df = df[['place_name', 'place_score', 'score', 'text', 'url', 'num_reviews']]\n",
        "df.head()"
      ],
      "execution_count": null,
      "outputs": [
        {
          "output_type": "execute_result",
          "data": {
            "text/html": [
              "<div>\n",
              "<style scoped>\n",
              "    .dataframe tbody tr th:only-of-type {\n",
              "        vertical-align: middle;\n",
              "    }\n",
              "\n",
              "    .dataframe tbody tr th {\n",
              "        vertical-align: top;\n",
              "    }\n",
              "\n",
              "    .dataframe thead th {\n",
              "        text-align: right;\n",
              "    }\n",
              "</style>\n",
              "<table border=\"1\" class=\"dataframe\">\n",
              "  <thead>\n",
              "    <tr style=\"text-align: right;\">\n",
              "      <th></th>\n",
              "      <th>place_name</th>\n",
              "      <th>place_score</th>\n",
              "      <th>score</th>\n",
              "      <th>text</th>\n",
              "      <th>url</th>\n",
              "      <th>num_reviews</th>\n",
              "    </tr>\n",
              "  </thead>\n",
              "  <tbody>\n",
              "    <tr>\n",
              "      <th>0</th>\n",
              "      <td>20th &amp; Tioga Street Park</td>\n",
              "      <td>4.2</td>\n",
              "      <td>5</td>\n",
              "      <td>Beautiful community garden space in the neighb...</td>\n",
              "      <td>https://www.google.com/maps/place/20th+%26+Tio...</td>\n",
              "      <td>43</td>\n",
              "    </tr>\n",
              "    <tr>\n",
              "      <th>1</th>\n",
              "      <td>20th &amp; Tioga Street Park</td>\n",
              "      <td>4.2</td>\n",
              "      <td>4</td>\n",
              "      <td>Great job of revitalizing this ball park... So...</td>\n",
              "      <td>https://www.google.com/maps/place/20th+%26+Tio...</td>\n",
              "      <td>43</td>\n",
              "    </tr>\n",
              "    <tr>\n",
              "      <th>2</th>\n",
              "      <td>20th &amp; Tioga Street Park</td>\n",
              "      <td>4.2</td>\n",
              "      <td>5</td>\n",
              "      <td>This is my childhood playground.  I love my ne...</td>\n",
              "      <td>https://www.google.com/maps/place/20th+%26+Tio...</td>\n",
              "      <td>43</td>\n",
              "    </tr>\n",
              "    <tr>\n",
              "      <th>3</th>\n",
              "      <td>20th &amp; Tioga Street Park</td>\n",
              "      <td>4.2</td>\n",
              "      <td>5</td>\n",
              "      <td>Beauty in the midst of chaos. True blessing to...</td>\n",
              "      <td>https://www.google.com/maps/place/20th+%26+Tio...</td>\n",
              "      <td>43</td>\n",
              "    </tr>\n",
              "    <tr>\n",
              "      <th>4</th>\n",
              "      <td>20th &amp; Tioga Street Park</td>\n",
              "      <td>4.2</td>\n",
              "      <td>5</td>\n",
              "      <td>It is a beautiful place to pause and gather yo...</td>\n",
              "      <td>https://www.google.com/maps/place/20th+%26+Tio...</td>\n",
              "      <td>43</td>\n",
              "    </tr>\n",
              "  </tbody>\n",
              "</table>\n",
              "</div>"
            ],
            "text/plain": [
              "                 place_name  ...  num_reviews\n",
              "0  20th & Tioga Street Park  ...           43\n",
              "1  20th & Tioga Street Park  ...           43\n",
              "2  20th & Tioga Street Park  ...           43\n",
              "3  20th & Tioga Street Park  ...           43\n",
              "4  20th & Tioga Street Park  ...           43\n",
              "\n",
              "[5 rows x 6 columns]"
            ]
          },
          "metadata": {},
          "execution_count": 8
        }
      ]
    },
    {
      "cell_type": "code",
      "metadata": {
        "id": "KtLuH3rK-cPb"
      },
      "source": [
        "df1 = df"
      ],
      "execution_count": null,
      "outputs": []
    },
    {
      "cell_type": "code",
      "metadata": {
        "colab": {
          "base_uri": "https://localhost:8080/",
          "height": 417
        },
        "id": "YgmLezCJ-wY4",
        "outputId": "e44f965c-f163-4020-af92-d5327d2fb78b"
      },
      "source": [
        "df1['text'] = df1[['place_name','text']].groupby(['place_name'])['text'].transform(lambda x: ','.join(x))\n",
        "df1 = df1[['place_name', 'text']].drop_duplicates()\n",
        "df1"
      ],
      "execution_count": null,
      "outputs": [
        {
          "output_type": "execute_result",
          "data": {
            "text/html": [
              "<div>\n",
              "<style scoped>\n",
              "    .dataframe tbody tr th:only-of-type {\n",
              "        vertical-align: middle;\n",
              "    }\n",
              "\n",
              "    .dataframe tbody tr th {\n",
              "        vertical-align: top;\n",
              "    }\n",
              "\n",
              "    .dataframe thead th {\n",
              "        text-align: right;\n",
              "    }\n",
              "</style>\n",
              "<table border=\"1\" class=\"dataframe\">\n",
              "  <thead>\n",
              "    <tr style=\"text-align: right;\">\n",
              "      <th></th>\n",
              "      <th>place_name</th>\n",
              "      <th>text</th>\n",
              "    </tr>\n",
              "  </thead>\n",
              "  <tbody>\n",
              "    <tr>\n",
              "      <th>0</th>\n",
              "      <td>20th &amp; Tioga Street Park</td>\n",
              "      <td>Beautiful community garden space in the neighb...</td>\n",
              "    </tr>\n",
              "    <tr>\n",
              "      <th>43</th>\n",
              "      <td>29th &amp; Chalmers Playground</td>\n",
              "      <td>Pretty decent place to relax or enjoy the acti...</td>\n",
              "    </tr>\n",
              "    <tr>\n",
              "      <th>290</th>\n",
              "      <td>33rd and Wallace Playground</td>\n",
              "      <td>Nice place to go to. Playground is awesome and...</td>\n",
              "    </tr>\n",
              "    <tr>\n",
              "      <th>291</th>\n",
              "      <td>48th &amp; Woodland Playground</td>\n",
              "      <td>Great game for the kids in Phillies RBI BASEBA...</td>\n",
              "    </tr>\n",
              "    <tr>\n",
              "      <th>409</th>\n",
              "      <td>8th &amp; Diamond Playground</td>\n",
              "      <td>Sunday afternoon it was nice. Kids teens famil...</td>\n",
              "    </tr>\n",
              "    <tr>\n",
              "      <th>...</th>\n",
              "      <td>...</td>\n",
              "      <td>...</td>\n",
              "    </tr>\n",
              "    <tr>\n",
              "      <th>83682</th>\n",
              "      <td>Wissahickon Valley Park</td>\n",
              "      <td>People who live in and around Philadelphia are...</td>\n",
              "    </tr>\n",
              "    <tr>\n",
              "      <th>88582</th>\n",
              "      <td>Wissinoming Park</td>\n",
              "      <td>Such a great park that has been part of Philad...</td>\n",
              "    </tr>\n",
              "    <tr>\n",
              "      <th>89380</th>\n",
              "      <td>Wister Playground</td>\n",
              "      <td>First time here, my boys definitely enjoyed it...</td>\n",
              "    </tr>\n",
              "    <tr>\n",
              "      <th>89455</th>\n",
              "      <td>Woodside Park</td>\n",
              "      <td>Great family park, fun in summer and winter! N...</td>\n",
              "    </tr>\n",
              "    <tr>\n",
              "      <th>89497</th>\n",
              "      <td>ZIEHLER PLAY GROUND</td>\n",
              "      <td>NOT THE SKILL LEVEL I DESIRE. I STOP HERE SOME...</td>\n",
              "    </tr>\n",
              "  </tbody>\n",
              "</table>\n",
              "<p>238 rows × 2 columns</p>\n",
              "</div>"
            ],
            "text/plain": [
              "                        place_name                                               text\n",
              "0         20th & Tioga Street Park  Beautiful community garden space in the neighb...\n",
              "43      29th & Chalmers Playground  Pretty decent place to relax or enjoy the acti...\n",
              "290    33rd and Wallace Playground  Nice place to go to. Playground is awesome and...\n",
              "291     48th & Woodland Playground  Great game for the kids in Phillies RBI BASEBA...\n",
              "409       8th & Diamond Playground  Sunday afternoon it was nice. Kids teens famil...\n",
              "...                            ...                                                ...\n",
              "83682      Wissahickon Valley Park  People who live in and around Philadelphia are...\n",
              "88582             Wissinoming Park  Such a great park that has been part of Philad...\n",
              "89380            Wister Playground  First time here, my boys definitely enjoyed it...\n",
              "89455                Woodside Park  Great family park, fun in summer and winter! N...\n",
              "89497          ZIEHLER PLAY GROUND  NOT THE SKILL LEVEL I DESIRE. I STOP HERE SOME...\n",
              "\n",
              "[238 rows x 2 columns]"
            ]
          },
          "metadata": {},
          "execution_count": 35
        }
      ]
    },
    {
      "cell_type": "markdown",
      "metadata": {
        "id": "rGwSzIZmFjTw"
      },
      "source": [
        "Clean review text of stop words, uppercase letters, and symbols."
      ]
    },
    {
      "cell_type": "code",
      "metadata": {
        "id": "obGG6wDoK8Ck"
      },
      "source": [
        "def _removeNonAscii(s):\n",
        "    return \"\".join(i for i in s if  ord(i)<128)\n",
        "\n",
        "def make_lower_case(text):\n",
        "    return text.lower()\n",
        "\n",
        "def remove_stop_words(text):\n",
        "    text = text.split()\n",
        "    stops = set(stopwords.words(\"english\"))\n",
        "    text = [w for w in text if not w in stops]\n",
        "    text = \" \".join(text)\n",
        "    return text\n",
        "    \n",
        "def remove_punctuation(text):\n",
        "    tokenizer = RegexpTokenizer(r'\\w+')\n",
        "    text = tokenizer.tokenize(text)\n",
        "    text = \" \".join(text)\n",
        "    return text\n",
        "\n",
        "df1['cleaned'] = df1['text'].apply(_removeNonAscii)\n",
        "df1['cleaned'] = df1.cleaned.apply(func = make_lower_case)\n",
        "df1['cleaned'] = df1.cleaned.apply(func = remove_stop_words)\n",
        "df1['cleaned'] = df1.cleaned.apply(func=remove_punctuation)\n"
      ],
      "execution_count": null,
      "outputs": []
    },
    {
      "cell_type": "code",
      "metadata": {
        "colab": {
          "base_uri": "https://localhost:8080/",
          "height": 417
        },
        "id": "v_FSJNFMLvKM",
        "outputId": "3c9570ab-776e-4b1e-8de7-37f6c6911cad"
      },
      "source": [
        "df1"
      ],
      "execution_count": null,
      "outputs": [
        {
          "output_type": "execute_result",
          "data": {
            "text/html": [
              "<div>\n",
              "<style scoped>\n",
              "    .dataframe tbody tr th:only-of-type {\n",
              "        vertical-align: middle;\n",
              "    }\n",
              "\n",
              "    .dataframe tbody tr th {\n",
              "        vertical-align: top;\n",
              "    }\n",
              "\n",
              "    .dataframe thead th {\n",
              "        text-align: right;\n",
              "    }\n",
              "</style>\n",
              "<table border=\"1\" class=\"dataframe\">\n",
              "  <thead>\n",
              "    <tr style=\"text-align: right;\">\n",
              "      <th></th>\n",
              "      <th>place_name</th>\n",
              "      <th>text</th>\n",
              "      <th>cleaned</th>\n",
              "    </tr>\n",
              "  </thead>\n",
              "  <tbody>\n",
              "    <tr>\n",
              "      <th>0</th>\n",
              "      <td>20th &amp; Tioga Street Park</td>\n",
              "      <td>Beautiful community garden space in the neighb...</td>\n",
              "      <td>beautiful community garden space neighborhood ...</td>\n",
              "    </tr>\n",
              "    <tr>\n",
              "      <th>43</th>\n",
              "      <td>29th &amp; Chalmers Playground</td>\n",
              "      <td>Pretty decent place to relax or enjoy the acti...</td>\n",
              "      <td>pretty decent place relax enjoy activities goi...</td>\n",
              "    </tr>\n",
              "    <tr>\n",
              "      <th>290</th>\n",
              "      <td>33rd and Wallace Playground</td>\n",
              "      <td>Nice place to go to. Playground is awesome and...</td>\n",
              "      <td>nice place go to playground awesome clean even...</td>\n",
              "    </tr>\n",
              "    <tr>\n",
              "      <th>291</th>\n",
              "      <td>48th &amp; Woodland Playground</td>\n",
              "      <td>Great game for the kids in Phillies RBI BASEBA...</td>\n",
              "      <td>great game kids phillies rbi baseball i attend...</td>\n",
              "    </tr>\n",
              "    <tr>\n",
              "      <th>409</th>\n",
              "      <td>8th &amp; Diamond Playground</td>\n",
              "      <td>Sunday afternoon it was nice. Kids teens famil...</td>\n",
              "      <td>sunday afternoon nice kids teens families it s...</td>\n",
              "    </tr>\n",
              "    <tr>\n",
              "      <th>...</th>\n",
              "      <td>...</td>\n",
              "      <td>...</td>\n",
              "      <td>...</td>\n",
              "    </tr>\n",
              "    <tr>\n",
              "      <th>83682</th>\n",
              "      <td>Wissahickon Valley Park</td>\n",
              "      <td>People who live in and around Philadelphia are...</td>\n",
              "      <td>people live around philadelphia truly blessed ...</td>\n",
              "    </tr>\n",
              "    <tr>\n",
              "      <th>88582</th>\n",
              "      <td>Wissinoming Park</td>\n",
              "      <td>Such a great park that has been part of Philad...</td>\n",
              "      <td>great park part philadelphias history since 19...</td>\n",
              "    </tr>\n",
              "    <tr>\n",
              "      <th>89380</th>\n",
              "      <td>Wister Playground</td>\n",
              "      <td>First time here, my boys definitely enjoyed it...</td>\n",
              "      <td>first time here boys definitely enjoyed it wen...</td>\n",
              "    </tr>\n",
              "    <tr>\n",
              "      <th>89455</th>\n",
              "      <td>Woodside Park</td>\n",
              "      <td>Great family park, fun in summer and winter! N...</td>\n",
              "      <td>great family park fun summer winter nice clean...</td>\n",
              "    </tr>\n",
              "    <tr>\n",
              "      <th>89497</th>\n",
              "      <td>ZIEHLER PLAY GROUND</td>\n",
              "      <td>NOT THE SKILL LEVEL I DESIRE. I STOP HERE SOME...</td>\n",
              "      <td>skill level desire stop times credit james har...</td>\n",
              "    </tr>\n",
              "  </tbody>\n",
              "</table>\n",
              "<p>238 rows × 3 columns</p>\n",
              "</div>"
            ],
            "text/plain": [
              "                        place_name  ...                                            cleaned\n",
              "0         20th & Tioga Street Park  ...  beautiful community garden space neighborhood ...\n",
              "43      29th & Chalmers Playground  ...  pretty decent place relax enjoy activities goi...\n",
              "290    33rd and Wallace Playground  ...  nice place go to playground awesome clean even...\n",
              "291     48th & Woodland Playground  ...  great game kids phillies rbi baseball i attend...\n",
              "409       8th & Diamond Playground  ...  sunday afternoon nice kids teens families it s...\n",
              "...                            ...  ...                                                ...\n",
              "83682      Wissahickon Valley Park  ...  people live around philadelphia truly blessed ...\n",
              "88582             Wissinoming Park  ...  great park part philadelphias history since 19...\n",
              "89380            Wister Playground  ...  first time here boys definitely enjoyed it wen...\n",
              "89455                Woodside Park  ...  great family park fun summer winter nice clean...\n",
              "89497          ZIEHLER PLAY GROUND  ...  skill level desire stop times credit james har...\n",
              "\n",
              "[238 rows x 3 columns]"
            ]
          },
          "metadata": {},
          "execution_count": 46
        }
      ]
    },
    {
      "cell_type": "markdown",
      "metadata": {
        "id": "KojP3Oa6FqIq"
      },
      "source": [
        "Create a corpus or list of each word included in user reviews"
      ]
    },
    {
      "cell_type": "code",
      "metadata": {
        "id": "nWz_k2wpLwIs"
      },
      "source": [
        "corpus = []\n",
        "for words in df1['cleaned']:\n",
        "    corpus.append(words.split())"
      ],
      "execution_count": null,
      "outputs": []
    },
    {
      "cell_type": "markdown",
      "metadata": {
        "id": "d6iEYMnLFtTt"
      },
      "source": [
        "Train model on the Google News dataset"
      ]
    },
    {
      "cell_type": "code",
      "metadata": {
        "colab": {
          "base_uri": "https://localhost:8080/"
        },
        "id": "pxu4PG6XLyT8",
        "outputId": "0b770748-6d37-4ad8-bc0b-bc7b4be5d391"
      },
      "source": [
        "# Downloading the Google pretrained Word2Vec Model\n",
        "!wget -P /root/input/ -c \"https://s3.amazonaws.com/dl4j-distribution/GoogleNews-vectors-negative300.bin.gz\"\n",
        "\n",
        "EMBEDDING_FILE = '/root/input/GoogleNews-vectors-negative300.bin.gz'\n",
        "google_word2vec = KeyedVectors.load_word2vec_format(EMBEDDING_FILE, binary=True)\n",
        "\n",
        "# Training our corpus with Google Pretrained Model\n",
        "\n",
        "google_model = Word2Vec(size = 300, window=5, min_count = 2, workers = -1)\n",
        "google_model.build_vocab(corpus)\n",
        "\n",
        "#model.intersect_word2vec_format('./word2vec/GoogleNews-vectors-negative300.bin', lockf=1.0, binary=True)\n",
        "\n",
        "google_model.intersect_word2vec_format(EMBEDDING_FILE, lockf=1.0, binary=True)\n",
        "\n",
        "google_model.train(corpus, total_examples=google_model.corpus_count, epochs = 5)"
      ],
      "execution_count": null,
      "outputs": [
        {
          "output_type": "stream",
          "text": [
            "--2021-08-27 18:48:50--  https://s3.amazonaws.com/dl4j-distribution/GoogleNews-vectors-negative300.bin.gz\n",
            "Resolving s3.amazonaws.com (s3.amazonaws.com)... 52.217.140.160\n",
            "Connecting to s3.amazonaws.com (s3.amazonaws.com)|52.217.140.160|:443... connected.\n",
            "HTTP request sent, awaiting response... 200 OK\n",
            "Length: 1647046227 (1.5G) [application/x-gzip]\n",
            "Saving to: ‘/root/input/GoogleNews-vectors-negative300.bin.gz’\n",
            "\n",
            "GoogleNews-vectors- 100%[===================>]   1.53G  35.1MB/s    in 52s     \n",
            "\n",
            "2021-08-27 18:49:42 (30.0 MB/s) - ‘/root/input/GoogleNews-vectors-negative300.bin.gz’ saved [1647046227/1647046227]\n",
            "\n"
          ],
          "name": "stdout"
        },
        {
          "output_type": "execute_result",
          "data": {
            "text/plain": [
              "(0, 0)"
            ]
          },
          "metadata": {},
          "execution_count": 48
        }
      ]
    },
    {
      "cell_type": "markdown",
      "metadata": {
        "id": "vKWn_IPjFwck"
      },
      "source": [
        "Create vectors"
      ]
    },
    {
      "cell_type": "code",
      "metadata": {
        "id": "yEpcHvQrL0dm"
      },
      "source": [
        "def vectors(x):\n",
        "    \n",
        "    # Creating a list for storing the vectors (description into vectors)\n",
        "    global word_embeddings\n",
        "    word_embeddings = []\n",
        "\n",
        "    # Reading each book description \n",
        "    for line in df1['cleaned']:\n",
        "        avgword2vec = None\n",
        "        count = 0\n",
        "        for word in line.split():\n",
        "            if word in google_model.wv.vocab:\n",
        "                count += 1\n",
        "                if avgword2vec is None:\n",
        "                    avgword2vec = google_model[word]\n",
        "                else:\n",
        "                    avgword2vec = avgword2vec + google_model[word]\n",
        "                \n",
        "        if avgword2vec is not None:\n",
        "            avgword2vec = avgword2vec / count\n",
        "        \n",
        "            word_embeddings.append(avgword2vec)"
      ],
      "execution_count": null,
      "outputs": []
    },
    {
      "cell_type": "code",
      "metadata": {
        "colab": {
          "base_uri": "https://localhost:8080/",
          "height": 417
        },
        "id": "OwV0_en9PV7d",
        "outputId": "7deca287-4a04-4e29-87e5-be0a5042f18d"
      },
      "source": [
        "df1 = df1.reset_index(drop=True)\n",
        "df1"
      ],
      "execution_count": null,
      "outputs": [
        {
          "output_type": "execute_result",
          "data": {
            "text/html": [
              "<div>\n",
              "<style scoped>\n",
              "    .dataframe tbody tr th:only-of-type {\n",
              "        vertical-align: middle;\n",
              "    }\n",
              "\n",
              "    .dataframe tbody tr th {\n",
              "        vertical-align: top;\n",
              "    }\n",
              "\n",
              "    .dataframe thead th {\n",
              "        text-align: right;\n",
              "    }\n",
              "</style>\n",
              "<table border=\"1\" class=\"dataframe\">\n",
              "  <thead>\n",
              "    <tr style=\"text-align: right;\">\n",
              "      <th></th>\n",
              "      <th>place_name</th>\n",
              "      <th>text</th>\n",
              "      <th>cleaned</th>\n",
              "    </tr>\n",
              "  </thead>\n",
              "  <tbody>\n",
              "    <tr>\n",
              "      <th>0</th>\n",
              "      <td>20th &amp; Tioga Street Park</td>\n",
              "      <td>Beautiful community garden space in the neighb...</td>\n",
              "      <td>beautiful community garden space neighborhood ...</td>\n",
              "    </tr>\n",
              "    <tr>\n",
              "      <th>1</th>\n",
              "      <td>29th &amp; Chalmers Playground</td>\n",
              "      <td>Pretty decent place to relax or enjoy the acti...</td>\n",
              "      <td>pretty decent place relax enjoy activities goi...</td>\n",
              "    </tr>\n",
              "    <tr>\n",
              "      <th>2</th>\n",
              "      <td>33rd and Wallace Playground</td>\n",
              "      <td>Nice place to go to. Playground is awesome and...</td>\n",
              "      <td>nice place go to playground awesome clean even...</td>\n",
              "    </tr>\n",
              "    <tr>\n",
              "      <th>3</th>\n",
              "      <td>48th &amp; Woodland Playground</td>\n",
              "      <td>Great game for the kids in Phillies RBI BASEBA...</td>\n",
              "      <td>great game kids phillies rbi baseball i attend...</td>\n",
              "    </tr>\n",
              "    <tr>\n",
              "      <th>4</th>\n",
              "      <td>8th &amp; Diamond Playground</td>\n",
              "      <td>Sunday afternoon it was nice. Kids teens famil...</td>\n",
              "      <td>sunday afternoon nice kids teens families it s...</td>\n",
              "    </tr>\n",
              "    <tr>\n",
              "      <th>...</th>\n",
              "      <td>...</td>\n",
              "      <td>...</td>\n",
              "      <td>...</td>\n",
              "    </tr>\n",
              "    <tr>\n",
              "      <th>233</th>\n",
              "      <td>Wissahickon Valley Park</td>\n",
              "      <td>People who live in and around Philadelphia are...</td>\n",
              "      <td>people live around philadelphia truly blessed ...</td>\n",
              "    </tr>\n",
              "    <tr>\n",
              "      <th>234</th>\n",
              "      <td>Wissinoming Park</td>\n",
              "      <td>Such a great park that has been part of Philad...</td>\n",
              "      <td>great park part philadelphias history since 19...</td>\n",
              "    </tr>\n",
              "    <tr>\n",
              "      <th>235</th>\n",
              "      <td>Wister Playground</td>\n",
              "      <td>First time here, my boys definitely enjoyed it...</td>\n",
              "      <td>first time here boys definitely enjoyed it wen...</td>\n",
              "    </tr>\n",
              "    <tr>\n",
              "      <th>236</th>\n",
              "      <td>Woodside Park</td>\n",
              "      <td>Great family park, fun in summer and winter! N...</td>\n",
              "      <td>great family park fun summer winter nice clean...</td>\n",
              "    </tr>\n",
              "    <tr>\n",
              "      <th>237</th>\n",
              "      <td>ZIEHLER PLAY GROUND</td>\n",
              "      <td>NOT THE SKILL LEVEL I DESIRE. I STOP HERE SOME...</td>\n",
              "      <td>skill level desire stop times credit james har...</td>\n",
              "    </tr>\n",
              "  </tbody>\n",
              "</table>\n",
              "<p>238 rows × 3 columns</p>\n",
              "</div>"
            ],
            "text/plain": [
              "                      place_name  ...                                            cleaned\n",
              "0       20th & Tioga Street Park  ...  beautiful community garden space neighborhood ...\n",
              "1     29th & Chalmers Playground  ...  pretty decent place relax enjoy activities goi...\n",
              "2    33rd and Wallace Playground  ...  nice place go to playground awesome clean even...\n",
              "3     48th & Woodland Playground  ...  great game kids phillies rbi baseball i attend...\n",
              "4       8th & Diamond Playground  ...  sunday afternoon nice kids teens families it s...\n",
              "..                           ...  ...                                                ...\n",
              "233      Wissahickon Valley Park  ...  people live around philadelphia truly blessed ...\n",
              "234             Wissinoming Park  ...  great park part philadelphias history since 19...\n",
              "235            Wister Playground  ...  first time here boys definitely enjoyed it wen...\n",
              "236                Woodside Park  ...  great family park fun summer winter nice clean...\n",
              "237          ZIEHLER PLAY GROUND  ...  skill level desire stop times credit james har...\n",
              "\n",
              "[238 rows x 3 columns]"
            ]
          },
          "metadata": {},
          "execution_count": 50
        }
      ]
    },
    {
      "cell_type": "markdown",
      "metadata": {
        "id": "2I3sYkGxFzU4"
      },
      "source": [
        "Recommend titles based on cosine similarity of user reviews"
      ]
    },
    {
      "cell_type": "code",
      "metadata": {
        "id": "vbZp81fyL3Ae"
      },
      "source": [
        "def recommendations(title):\n",
        "    \n",
        "    # Calling the function vectors\n",
        "\n",
        "    vectors(df1)\n",
        "    \n",
        "    # finding cosine similarity for the vectors\n",
        "\n",
        "    cosine_similarities = cosine_similarity(word_embeddings, word_embeddings)\n",
        "\n",
        "    # taking the title and book image link and store in new data frame called books\n",
        "    books = df1[['place_name']]\n",
        "    #Reverse mapping of the index\n",
        "    indices = pd.Series(df1.index, index = df1['place_name'])\n",
        "         \n",
        "    idx = indices[title]\n",
        "    sim_scores = list(enumerate(cosine_similarities[idx]))\n",
        "    sim_scores = sorted(sim_scores, key = lambda x: x[1], reverse = True)\n",
        "    sim_scores = sim_scores[1:6]\n",
        "    book_indices = [i[0] for i in sim_scores]\n",
        "    recommend = books.iloc[book_indices]\n",
        "\n",
        "    c = 1\n",
        "    i = 0\n",
        "    print('Top 5 most similar')\n",
        "    print('')\n",
        "    for index, row in recommend.iterrows():\n",
        "\n",
        "        response = (row['place_name'])\n",
        "        # Print name of person \n",
        "        print(str(c) + \". \" + response)\n",
        "\n",
        "        # Print cosine similarity score\n",
        "        score = str(sim_scores[i])\n",
        "        score = score.split(\",\",1)[1] \n",
        "        score = score.split(\")\",1)[0] \n",
        "        print('Cosine similarity' + score)\n",
        "        i += 1\n",
        "        c += 1"
      ],
      "execution_count": null,
      "outputs": []
    },
    {
      "cell_type": "markdown",
      "metadata": {
        "id": "EPavGQRvF3do"
      },
      "source": [
        "Park example, giving the top 5 most similar parks"
      ]
    },
    {
      "cell_type": "code",
      "metadata": {
        "colab": {
          "base_uri": "https://localhost:8080/"
        },
        "id": "LfYEkH3bMCXs",
        "outputId": "85ff4ddb-c078-4a36-d791-6ccefa0b9944"
      },
      "source": [
        "recommendations(\"Walnut Lane Golf Club\")"
      ],
      "execution_count": null,
      "outputs": [
        {
          "output_type": "stream",
          "text": [
            "Top 5 most similar\n",
            "\n",
            "1. Cobbs Creek Golf Club\n",
            "Cosine similarity 0.9935986851687482\n",
            "2. John F. Byrne Golf Club\n",
            "Cosine similarity 0.9886678037649358\n",
            "3. Juniata Golf Club\n",
            "Cosine similarity 0.9790133283881534\n",
            "4. Sedgley Woods Disc Golf\n",
            "Cosine similarity 0.970943938244899\n",
            "5. Burholme Park\n",
            "Cosine similarity 0.9150772426812004\n"
          ],
          "name": "stdout"
        }
      ]
    },
    {
      "cell_type": "markdown",
      "metadata": {
        "id": "Nb_fsiTAF7ro"
      },
      "source": [
        "Plot some keywords and the top most similar words within the review to visualize the model"
      ]
    },
    {
      "cell_type": "code",
      "metadata": {
        "id": "FVRjIUhZMImz"
      },
      "source": [
        "keys = ['park', 'play', 'kids', 'basketball', 'clean', 'dirty', 'drugs', 'unsafe', 'dogs']\n",
        "\n",
        "embedding_clusters = []\n",
        "word_clusters = []\n",
        "for word in keys:\n",
        "    embeddings = []\n",
        "    words = []\n",
        "    for similar_word, _ in google_model.most_similar(word, topn=30):\n",
        "        words.append(similar_word)\n",
        "        embeddings.append(google_model[similar_word])\n",
        "    embedding_clusters.append(embeddings)\n",
        "    word_clusters.append(words)"
      ],
      "execution_count": null,
      "outputs": []
    },
    {
      "cell_type": "code",
      "metadata": {
        "id": "mqlcnaoqMM4z"
      },
      "source": [
        " \n",
        "warnings.filterwarnings(action = 'ignore')\n",
        "\n",
        "embedding_clusters = np.array(embedding_clusters)\n",
        "n, m, k = embedding_clusters.shape\n",
        "tsne_model_en_2d = TSNE(perplexity=15, n_components=2, init='pca', n_iter=3500, random_state=32)\n",
        "embeddings_en_2d = np.array(tsne_model_en_2d.fit_transform(embedding_clusters.reshape(n * m, k))).reshape(n, m, 2)"
      ],
      "execution_count": null,
      "outputs": []
    },
    {
      "cell_type": "code",
      "metadata": {
        "colab": {
          "base_uri": "https://localhost:8080/",
          "height": 724
        },
        "id": "l-E-vcMqMVri",
        "outputId": "4f62a6e6-9380-46dd-da33-2889ae51b8df"
      },
      "source": [
        "def tsne_plot_similar_words(title, labels, embedding_clusters, word_clusters, a, filename=None):\n",
        "    plt.figure(figsize=(16, 9))\n",
        "    colors = cm.rainbow(np.linspace(0, 1, len(labels)))\n",
        "    for label, embeddings, words, color in zip(labels, embedding_clusters, word_clusters, colors):\n",
        "        x = embeddings[:, 0]\n",
        "        y = embeddings[:, 1]\n",
        "        plt.scatter(x, y, c=color, alpha=a, label=label)\n",
        "        for i, word in enumerate(words):\n",
        "            plt.annotate(word, alpha=0.5, xy=(x[i], y[i]), xytext=(5, 2),\n",
        "                         textcoords='offset points', ha='right', va='bottom', size=8)\n",
        "    plt.legend(loc=4)\n",
        "    plt.title(title)\n",
        "    plt.grid(True)\n",
        "    if filename:\n",
        "        plt.savefig(filename, format='png', dpi=150, bbox_inches='tight')\n",
        "    plt.show()\n",
        "\n",
        "\n",
        "\n",
        "tsne_plot_similar_words('Most Similar Words', keys, embeddings_en_2d, word_clusters, 0.7,\n",
        "                        'similar_words.png')"
      ],
      "execution_count": null,
      "outputs": [
        {
          "output_type": "stream",
          "text": [
            "*c* argument looks like a single numeric RGB or RGBA sequence, which should be avoided as value-mapping will have precedence in case its length matches with *x* & *y*.  Please use the *color* keyword-argument or provide a 2-D array with a single row if you intend to specify the same RGB or RGBA value for all points.\n",
            "*c* argument looks like a single numeric RGB or RGBA sequence, which should be avoided as value-mapping will have precedence in case its length matches with *x* & *y*.  Please use the *color* keyword-argument or provide a 2-D array with a single row if you intend to specify the same RGB or RGBA value for all points.\n",
            "*c* argument looks like a single numeric RGB or RGBA sequence, which should be avoided as value-mapping will have precedence in case its length matches with *x* & *y*.  Please use the *color* keyword-argument or provide a 2-D array with a single row if you intend to specify the same RGB or RGBA value for all points.\n",
            "*c* argument looks like a single numeric RGB or RGBA sequence, which should be avoided as value-mapping will have precedence in case its length matches with *x* & *y*.  Please use the *color* keyword-argument or provide a 2-D array with a single row if you intend to specify the same RGB or RGBA value for all points.\n",
            "*c* argument looks like a single numeric RGB or RGBA sequence, which should be avoided as value-mapping will have precedence in case its length matches with *x* & *y*.  Please use the *color* keyword-argument or provide a 2-D array with a single row if you intend to specify the same RGB or RGBA value for all points.\n",
            "*c* argument looks like a single numeric RGB or RGBA sequence, which should be avoided as value-mapping will have precedence in case its length matches with *x* & *y*.  Please use the *color* keyword-argument or provide a 2-D array with a single row if you intend to specify the same RGB or RGBA value for all points.\n",
            "*c* argument looks like a single numeric RGB or RGBA sequence, which should be avoided as value-mapping will have precedence in case its length matches with *x* & *y*.  Please use the *color* keyword-argument or provide a 2-D array with a single row if you intend to specify the same RGB or RGBA value for all points.\n",
            "*c* argument looks like a single numeric RGB or RGBA sequence, which should be avoided as value-mapping will have precedence in case its length matches with *x* & *y*.  Please use the *color* keyword-argument or provide a 2-D array with a single row if you intend to specify the same RGB or RGBA value for all points.\n",
            "*c* argument looks like a single numeric RGB or RGBA sequence, which should be avoided as value-mapping will have precedence in case its length matches with *x* & *y*.  Please use the *color* keyword-argument or provide a 2-D array with a single row if you intend to specify the same RGB or RGBA value for all points.\n"
          ],
          "name": "stderr"
        },
        {
          "output_type": "display_data",
          "data": {
            "image/png": "[encoded data removed]",
            "text/plain": [
              "<Figure size 1152x648 with 1 Axes>"
            ]
          },
          "metadata": {
            "needs_background": "light"
          }
        }
      ]
    }
  ]
}